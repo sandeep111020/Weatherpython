{
  "nbformat": 4,
  "nbformat_minor": 0,
  "metadata": {
    "colab": {
      "name": "weather.ipynb",
      "provenance": [],
      "collapsed_sections": [],
      "authorship_tag": "ABX9TyMbLF2i6kWsGKS4dTwhelj6",
      "include_colab_link": true
    },
    "kernelspec": {
      "name": "python3",
      "display_name": "Python 3"
    },
    "language_info": {
      "name": "python"
    }
  },
  "cells": [
    {
      "cell_type": "markdown",
      "metadata": {
        "id": "view-in-github",
        "colab_type": "text"
      },
      "source": [
        "<a href=\"https://colab.research.google.com/github/sandeep111020/Weatherpython/blob/main/weather.ipynb\" target=\"_parent\"><img src=\"https://colab.research.google.com/assets/colab-badge.svg\" alt=\"Open In Colab\"/></a>"
      ]
    },
    {
      "cell_type": "code",
      "execution_count": null,
      "metadata": {
        "colab": {
          "base_uri": "https://localhost:8080/"
        },
        "id": "PeC5NCuJsOox",
        "outputId": "c0be3b07-f016-476f-f992-03ef533e20ab"
      },
      "outputs": [
        {
          "output_type": "stream",
          "name": "stdout",
          "text": [
            "Requirement already satisfied: requests in /usr/local/lib/python3.7/dist-packages (2.23.0)\n",
            "Requirement already satisfied: chardet<4,>=3.0.2 in /usr/local/lib/python3.7/dist-packages (from requests) (3.0.4)\n",
            "Requirement already satisfied: urllib3!=1.25.0,!=1.25.1,<1.26,>=1.21.1 in /usr/local/lib/python3.7/dist-packages (from requests) (1.24.3)\n",
            "Requirement already satisfied: certifi>=2017.4.17 in /usr/local/lib/python3.7/dist-packages (from requests) (2021.10.8)\n",
            "Requirement already satisfied: idna<3,>=2.5 in /usr/local/lib/python3.7/dist-packages (from requests) (2.10)\n"
          ]
        }
      ],
      "source": [
        "pip install requests"
      ]
    },
    {
      "cell_type": "code",
      "source": [
        "pip install python-firebase"
      ],
      "metadata": {
        "colab": {
          "base_uri": "https://localhost:8080/"
        },
        "id": "noRb-uTlsSn2",
        "outputId": "f875c385-246e-49c9-93b6-905c5f90bcb7"
      },
      "execution_count": null,
      "outputs": [
        {
          "output_type": "stream",
          "name": "stdout",
          "text": [
            "Collecting python-firebase\n",
            "  Downloading python-firebase-1.2.tar.gz (10 kB)\n",
            "Requirement already satisfied: requests>=1.1.0 in /usr/local/lib/python3.7/dist-packages (from python-firebase) (2.23.0)\n",
            "Requirement already satisfied: chardet<4,>=3.0.2 in /usr/local/lib/python3.7/dist-packages (from requests>=1.1.0->python-firebase) (3.0.4)\n",
            "Requirement already satisfied: urllib3!=1.25.0,!=1.25.1,<1.26,>=1.21.1 in /usr/local/lib/python3.7/dist-packages (from requests>=1.1.0->python-firebase) (1.24.3)\n",
            "Requirement already satisfied: certifi>=2017.4.17 in /usr/local/lib/python3.7/dist-packages (from requests>=1.1.0->python-firebase) (2021.10.8)\n",
            "Requirement already satisfied: idna<3,>=2.5 in /usr/local/lib/python3.7/dist-packages (from requests>=1.1.0->python-firebase) (2.10)\n",
            "Building wheels for collected packages: python-firebase\n",
            "  Building wheel for python-firebase (setup.py) ... \u001b[?25l\u001b[?25hdone\n",
            "  Created wheel for python-firebase: filename=python_firebase-1.2-py3-none-any.whl size=11532 sha256=e2bdad656eb9c236bc067071056499dbdf7e77c697c69987f0b3b8432ccce821\n",
            "  Stored in directory: /root/.cache/pip/wheels/0f/6d/06/32ba434ed7b712403f944a537c25e5b9560d766b58d172c8e6\n",
            "Successfully built python-firebase\n",
            "Installing collected packages: python-firebase\n",
            "Successfully installed python-firebase-1.2\n"
          ]
        }
      ]
    },
    {
      "cell_type": "code",
      "source": [
        "pip install git+https://github.com/ozgur/python-firebase"
      ],
      "metadata": {
        "colab": {
          "base_uri": "https://localhost:8080/"
        },
        "id": "ASCGhM2Hsrq1",
        "outputId": "c3f1f75f-c590-46fa-d01c-b3c6044e12d6"
      },
      "execution_count": null,
      "outputs": [
        {
          "output_type": "stream",
          "name": "stdout",
          "text": [
            "Collecting git+https://github.com/ozgur/python-firebase\n",
            "  Cloning https://github.com/ozgur/python-firebase to /tmp/pip-req-build-9l2h_uc_\n",
            "  Running command git clone -q https://github.com/ozgur/python-firebase /tmp/pip-req-build-9l2h_uc_\n",
            "Requirement already satisfied: requests>=1.1.0 in /usr/local/lib/python3.7/dist-packages (from python-firebase==1.2.1) (2.23.0)\n",
            "Requirement already satisfied: urllib3!=1.25.0,!=1.25.1,<1.26,>=1.21.1 in /usr/local/lib/python3.7/dist-packages (from requests>=1.1.0->python-firebase==1.2.1) (1.24.3)\n",
            "Requirement already satisfied: certifi>=2017.4.17 in /usr/local/lib/python3.7/dist-packages (from requests>=1.1.0->python-firebase==1.2.1) (2021.10.8)\n",
            "Requirement already satisfied: chardet<4,>=3.0.2 in /usr/local/lib/python3.7/dist-packages (from requests>=1.1.0->python-firebase==1.2.1) (3.0.4)\n",
            "Requirement already satisfied: idna<3,>=2.5 in /usr/local/lib/python3.7/dist-packages (from requests>=1.1.0->python-firebase==1.2.1) (2.10)\n",
            "Building wheels for collected packages: python-firebase\n",
            "  Building wheel for python-firebase (setup.py) ... \u001b[?25l\u001b[?25hdone\n",
            "  Created wheel for python-firebase: filename=python_firebase-1.2.1-py3-none-any.whl size=12547 sha256=77e8f1fbe1ddb154a11ed30fdb4d018a112010225e4e21059362068ea68f56c0\n",
            "  Stored in directory: /tmp/pip-ephem-wheel-cache-xg6spbpn/wheels/e7/7e/19/4f87f6d9a85bccbedc016446ef2314ed1f3fff01879f8f2be9\n",
            "Successfully built python-firebase\n",
            "Installing collected packages: python-firebase\n",
            "  Attempting uninstall: python-firebase\n",
            "    Found existing installation: python-firebase 1.2\n",
            "    Uninstalling python-firebase-1.2:\n",
            "      Successfully uninstalled python-firebase-1.2\n",
            "Successfully installed python-firebase-1.2.1\n"
          ]
        }
      ]
    },
    {
      "cell_type": "code",
      "source": [
        "from firebase import firebase\n",
        "from datetime import date, timedelta\n",
        "today = date.today()\n",
        "\n",
        "lst = []\n",
        "rec =[]\n",
        "datelist=[]\n",
        "fb_app = firebase.FirebaseApplication('https://socialmediaapp-b8b03-default-rtdb.firebaseio.com/', None)\n",
        "\n",
        "for x in range(5):\n",
        "   #lst.append(today - timedelta(days = x+1))\n",
        "   yesterday = today - timedelta(days=x+1)\n",
        "   lst.append(yesterday.strftime('%Y-%m-%d'))\n",
        "   temp = yesterday.strftime('%Y-%m-%d')\n",
        "   print(fb_app.get('DHT11/Humidity/'+temp, None))\n",
        "   rec.append(fb_app.get('DHT11/Humidity/'+temp, None))\n",
        "   print('DHT11/Humidity/'+temp)\n",
        "   datelist.append([int(yesterday.strftime('%m')),int(yesterday.strftime('%d'))])\n",
        "\n",
        "print(today)\n",
        "print(rec)\n",
        "print(datelist)\n",
        "result = fb_app.get('DHT11/Humidity', None)\n",
        "#print(result)"
      ],
      "metadata": {
        "colab": {
          "base_uri": "https://localhost:8080/"
        },
        "id": "prqN_QlrsVlM",
        "outputId": "674c33a4-78d9-4072-f9d0-9a55c4e80cdc"
      },
      "execution_count": null,
      "outputs": [
        {
          "output_type": "stream",
          "name": "stdout",
          "text": [
            "4.94\n",
            "DHT11/Humidity/2021-12-21\n",
            "4.94\n",
            "DHT11/Humidity/2021-12-20\n",
            "4.94\n",
            "DHT11/Humidity/2021-12-19\n",
            "4.94\n",
            "DHT11/Humidity/2021-12-18\n",
            "4.94\n",
            "DHT11/Humidity/2021-12-17\n",
            "2021-12-22\n",
            "['4.94', '4.94', '4.94', '4.94', '4.94']\n",
            "[[12, 21], [12, 20], [12, 19], [12, 18], [12, 17]]\n"
          ]
        }
      ]
    },
    {
      "cell_type": "code",
      "source": [
        "from sklearn.linear_model import LinearRegression\n",
        "fin = [[12,22]]\n",
        "fin2 = [1,1,1,1]\n",
        "\n",
        "model = LinearRegression()\n",
        "model.fit(datelist,rec)\n",
        "pred = model.predict(fin)\n",
        "print(pred)\n",
        "for item in pred:\n",
        "  fb_app.put('DHT11/HumidityPred/',\"Data\",item)\n"
      ],
      "metadata": {
        "id": "lAZ7-d3J3JBp",
        "colab": {
          "base_uri": "https://localhost:8080/"
        },
        "outputId": "6fc23c27-c3ef-4143-a0c7-33cdfa6bbe0f"
      },
      "execution_count": null,
      "outputs": [
        {
          "output_type": "stream",
          "name": "stdout",
          "text": [
            "[4.94]\n"
          ]
        }
      ]
    }
  ]
}